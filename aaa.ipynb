{
 "cells": [
  {
   "cell_type": "markdown",
   "metadata": {},
   "source": [
    "### 関数"
   ]
  },
  {
   "cell_type": "markdown",
   "metadata": {},
   "source": [
    "iterator"
   ]
  },
  {
   "cell_type": "code",
   "execution_count": 1,
   "metadata": {},
   "outputs": [],
   "source": [
    "import torch\n",
    "dataset = []\n",
    "for i in range(1000):\n",
    "    data = torch.randn(3,224,224)\n",
    "    dataset.append(data)"
   ]
  },
  {
   "cell_type": "code",
   "execution_count": 2,
   "metadata": {},
   "outputs": [],
   "source": [
    "class DataLoader:\n",
    "    def __init__(self,dataset,max):\n",
    "        self.dataset = dataset\n",
    "        self._max = max\n",
    "\n",
    "    def __iter__(self):\n",
    "        self._count = 0\n",
    "        return self\n",
    "    \n",
    "    def __next__(self):\n",
    "        i = self._count\n",
    "        if i >= self._max:\n",
    "            raise StopIteration\n",
    "\n",
    "        self._count += 1\n",
    "\n",
    "        return self.dataset[i]"
   ]
  },
  {
   "cell_type": "code",
   "execution_count": 3,
   "metadata": {},
   "outputs": [
    {
     "name": "stdout",
     "output_type": "stream",
     "text": [
      "tensor([[[ 1.2147, -0.5298,  1.8472,  ..., -1.5453,  0.3894,  0.7934],\n",
      "         [ 0.0318,  1.2768,  0.8465,  ...,  0.1768, -0.6308,  1.2081],\n",
      "         [ 0.4839, -1.4650, -0.7037,  ...,  0.5944, -0.7347,  1.0029],\n",
      "         ...,\n",
      "         [-0.5064,  0.0343,  1.0873,  ..., -0.9595, -0.9509,  0.6189],\n",
      "         [ 0.3188, -0.5073,  2.2162,  ...,  1.1340,  1.8409,  1.3584],\n",
      "         [ 0.4570,  1.0990,  0.3428,  ..., -1.2273,  0.1082, -1.0004]],\n",
      "\n",
      "        [[-0.8687, -0.5942, -0.4483,  ...,  0.2506, -0.5423, -0.6904],\n",
      "         [-0.7897, -0.5409,  0.4658,  ...,  0.9778, -1.7955, -0.9498],\n",
      "         [-0.5294, -0.4005,  0.2692,  ..., -0.2763,  0.1107,  1.3739],\n",
      "         ...,\n",
      "         [-0.9612, -0.0158,  1.1625,  ...,  1.3901,  0.8890, -2.6968],\n",
      "         [ 0.0442,  1.6304,  0.2819,  ...,  0.3025,  1.6381, -0.5958],\n",
      "         [-0.0768, -0.3482,  0.8340,  ...,  0.4218, -0.9875, -1.4056]],\n",
      "\n",
      "        [[ 2.3474, -0.0548,  0.7884,  ...,  0.2892, -1.3120,  0.3573],\n",
      "         [ 0.4451, -0.5570, -0.3332,  ...,  0.0825,  0.0055, -0.9393],\n",
      "         [-0.6488, -0.5884,  0.6068,  ...,  0.6080,  1.6130, -1.9000],\n",
      "         ...,\n",
      "         [-1.9976,  0.4089, -0.5993,  ..., -0.4825,  0.4359,  0.5932],\n",
      "         [-0.0962,  1.4570,  0.1306,  ..., -1.0166, -1.0294,  0.8223],\n",
      "         [ 1.1346,  0.5944,  0.1042,  ..., -1.9092, -1.1276,  0.3500]]])\n",
      "tensor([[[ 2.0217e+00,  1.2056e+00, -8.3767e-02,  ..., -7.7885e-01,\n",
      "           2.1702e-01, -4.7509e-01],\n",
      "         [-5.7243e-02, -3.2521e-01,  1.1227e+00,  ...,  1.0408e+00,\n",
      "           6.9235e-02,  2.3424e-01],\n",
      "         [-3.4523e-01, -1.7544e+00, -1.3455e+00,  ...,  1.1080e+00,\n",
      "           2.8667e-01, -3.4150e+00],\n",
      "         ...,\n",
      "         [ 1.0045e+00, -2.7057e-02, -2.0829e+00,  ..., -3.2725e-01,\n",
      "          -1.1789e+00, -1.0808e+00],\n",
      "         [-1.6954e+00, -1.8967e+00,  3.7243e-01,  ..., -4.8504e-01,\n",
      "           1.8853e-01, -2.0529e-01],\n",
      "         [ 7.5544e-01,  4.1696e-01,  3.5885e-01,  ..., -8.2751e-01,\n",
      "          -2.6618e-01, -7.2283e-01]],\n",
      "\n",
      "        [[ 6.4827e-01,  1.0454e+00, -5.6657e-01,  ..., -2.6053e+00,\n",
      "          -4.6356e-01,  3.7919e-01],\n",
      "         [-1.2916e+00, -1.5861e+00,  9.5162e-01,  ..., -1.1516e-01,\n",
      "           9.0742e-01, -1.2652e+00],\n",
      "         [ 7.1582e-02,  2.5376e-01,  1.5573e+00,  ...,  7.9253e-01,\n",
      "           1.3926e+00, -1.5115e+00],\n",
      "         ...,\n",
      "         [-6.6589e-01,  6.6298e-01, -6.8510e-01,  ..., -1.5725e+00,\n",
      "           8.6698e-01,  1.5648e+00],\n",
      "         [ 6.8751e-01,  6.5942e-01, -2.8557e-02,  ...,  8.7442e-01,\n",
      "           2.3709e+00,  4.3462e-01],\n",
      "         [-1.0440e-01,  2.2107e-01,  2.3388e+00,  ..., -1.7874e+00,\n",
      "           1.2748e+00, -1.0660e+00]],\n",
      "\n",
      "        [[ 1.8330e+00, -3.8453e-01, -3.4790e-01,  ...,  4.5669e-01,\n",
      "          -3.4724e-01, -1.9619e+00],\n",
      "         [ 6.3109e-01, -1.4986e+00,  1.0898e+00,  ..., -6.4069e-01,\n",
      "          -4.6861e-01,  1.2777e+00],\n",
      "         [ 4.5077e-01,  5.5575e-01, -3.2211e-03,  ..., -2.2397e-01,\n",
      "           1.6217e+00,  2.8198e-01],\n",
      "         ...,\n",
      "         [-7.9346e-01,  1.7139e-01, -1.1122e+00,  ...,  9.0009e-01,\n",
      "           5.7632e-01,  1.4471e+00],\n",
      "         [-1.7446e+00, -2.0969e-01,  3.1921e+00,  ...,  4.1504e-01,\n",
      "          -2.2146e+00,  2.5204e+00],\n",
      "         [-2.9845e-01, -2.8477e-01,  1.0025e+00,  ..., -1.2150e-02,\n",
      "          -7.3735e-01,  1.4144e+00]]])\n",
      "tensor([[[-8.2826e-01, -8.9630e-01,  7.6140e-01,  ...,  8.4306e-01,\n",
      "          -5.7242e-01,  1.5155e-01],\n",
      "         [ 2.0835e-01,  2.4294e-02, -1.5887e-01,  ..., -2.7072e-01,\n",
      "           6.2216e-01, -4.4015e-01],\n",
      "         [-2.3593e-01, -1.3742e+00,  2.0694e+00,  ...,  2.1976e+00,\n",
      "          -2.1851e+00,  4.4145e-01],\n",
      "         ...,\n",
      "         [-1.4390e+00, -2.0315e-01,  2.7601e+00,  ...,  2.4070e-01,\n",
      "           1.6464e+00,  3.7575e-01],\n",
      "         [-8.2385e-01,  7.6143e-01,  1.6645e+00,  ..., -8.2110e-01,\n",
      "           8.1090e-01, -1.2260e+00],\n",
      "         [ 6.6269e-01, -2.5008e-01,  1.2578e+00,  ...,  8.7640e-01,\n",
      "           1.9039e+00,  1.6118e+00]],\n",
      "\n",
      "        [[-2.7603e-01, -1.8889e+00,  1.4807e+00,  ...,  1.5710e+00,\n",
      "          -5.9720e-01, -3.6841e-01],\n",
      "         [ 3.9137e-01, -1.4606e+00,  1.5860e+00,  ...,  6.1357e-01,\n",
      "          -1.5542e+00,  6.4830e-01],\n",
      "         [-6.7022e-01,  1.0292e+00,  1.2129e+00,  ...,  7.2082e-01,\n",
      "           1.4753e+00, -1.8096e-01],\n",
      "         ...,\n",
      "         [ 8.0602e-01,  1.2590e+00,  8.4211e-01,  ...,  1.0679e-01,\n",
      "           1.6381e+00,  6.6567e-01],\n",
      "         [-2.5307e-01, -1.3660e+00, -7.8305e-01,  ...,  5.5761e-01,\n",
      "           1.3500e+00, -3.5686e-01],\n",
      "         [ 2.2858e-01,  1.7835e-01, -5.7894e-01,  ...,  5.1575e-01,\n",
      "          -7.5552e-01,  8.3340e-01]],\n",
      "\n",
      "        [[ 3.2748e-01, -9.4392e-02, -1.1127e+00,  ...,  6.4437e-01,\n",
      "           5.1131e-01,  9.7967e-01],\n",
      "         [ 1.3322e-03,  1.3729e-01,  1.4854e+00,  ..., -5.7377e-01,\n",
      "           3.7233e-02,  8.7414e-01],\n",
      "         [ 8.3278e-01,  5.2406e-01, -4.5656e-01,  ...,  2.3393e-03,\n",
      "           2.0636e-01,  1.0414e-01],\n",
      "         ...,\n",
      "         [ 1.0379e+00,  2.2828e+00,  2.1638e+00,  ..., -8.3392e-01,\n",
      "          -1.6427e+00, -7.4434e-02],\n",
      "         [ 1.3020e+00, -1.6270e-01,  4.3437e-01,  ...,  1.0215e+00,\n",
      "           8.9444e-01,  2.4515e+00],\n",
      "         [-5.1725e-01, -4.1981e-01, -3.8436e-01,  ..., -1.0678e+00,\n",
      "           8.2286e-01,  2.7975e-01]]])\n",
      "tensor([[[-1.2116, -0.3706, -0.1648,  ...,  1.3232, -1.2065,  0.3162],\n",
      "         [ 0.4988, -0.0437,  1.4205,  ...,  2.1839, -0.8910,  0.5660],\n",
      "         [-0.8283,  0.1824, -0.6173,  ...,  0.4471, -0.2633,  0.3575],\n",
      "         ...,\n",
      "         [-0.0500,  0.4172,  2.0098,  ...,  0.2804,  0.9739, -0.0868],\n",
      "         [ 0.8167, -1.0822, -0.3713,  ..., -1.2356,  1.5152,  0.1467],\n",
      "         [-0.9704, -1.0663,  1.4350,  ...,  0.8223,  0.9338,  0.0259]],\n",
      "\n",
      "        [[ 0.7986, -0.4725,  1.3941,  ...,  0.4917, -1.3112,  0.3972],\n",
      "         [-0.1147, -0.3452,  0.7670,  ...,  0.1669, -1.0228,  1.9936],\n",
      "         [-0.3588, -0.3565,  0.9516,  ...,  0.2545,  0.5296, -0.4801],\n",
      "         ...,\n",
      "         [-1.4538,  0.0717,  0.0243,  ..., -1.1867, -0.2911, -0.0249],\n",
      "         [-0.0486,  1.4486, -0.9696,  ..., -1.0206, -0.1868, -0.2375],\n",
      "         [ 0.6483, -0.2843, -1.1867,  ...,  0.5462, -0.6079, -0.4852]],\n",
      "\n",
      "        [[-0.1608,  0.2362, -1.4359,  ..., -1.1335,  0.0532, -0.4517],\n",
      "         [ 0.4358, -0.9126, -1.0495,  ...,  0.6490,  0.1714, -0.8976],\n",
      "         [-0.0539, -1.8619, -0.5514,  ..., -0.4124,  1.2366, -1.7188],\n",
      "         ...,\n",
      "         [-0.3852, -1.5528, -1.0112,  ...,  0.5370, -0.7022,  0.1645],\n",
      "         [-0.4849,  1.9312,  0.8568,  ...,  1.5900,  0.7191,  0.2132],\n",
      "         [-0.9391,  0.0611, -0.7953,  ..., -0.3538, -0.4617,  0.4251]]])\n",
      "tensor([[[ 0.0398, -1.0705,  0.8669,  ...,  0.0156,  0.1202, -1.9923],\n",
      "         [-0.5230, -0.6079,  0.5385,  ..., -0.9568,  0.8472, -0.2131],\n",
      "         [ 1.8092, -1.6756, -1.2665,  ..., -0.0454, -0.2929,  1.4421],\n",
      "         ...,\n",
      "         [-0.0272, -0.2423, -1.6937,  ...,  1.2480, -1.2448,  0.7975],\n",
      "         [-1.0299, -0.6432,  0.3250,  ..., -0.3138,  0.4584, -0.6436],\n",
      "         [ 1.1167,  1.0232,  0.8319,  ...,  1.3432,  0.3439, -1.3404]],\n",
      "\n",
      "        [[ 0.5523, -0.7105,  1.7603,  ..., -0.4428, -1.7243, -0.1929],\n",
      "         [ 0.2055,  0.2979, -2.0422,  ...,  0.8368, -0.3212,  0.8392],\n",
      "         [-1.1985,  1.9128, -0.5155,  ..., -0.3174, -0.4484, -0.4892],\n",
      "         ...,\n",
      "         [ 0.7300,  0.1734,  1.2549,  ..., -0.0064,  1.5019,  0.2192],\n",
      "         [-0.1233,  1.0975, -0.3544,  ...,  1.6950,  1.1160, -0.2174],\n",
      "         [-0.5385,  0.9404, -0.6080,  ..., -1.2548,  2.3111, -0.1313]],\n",
      "\n",
      "        [[ 0.1461, -1.3756, -1.8878,  ...,  1.1641,  0.1344, -1.8605],\n",
      "         [ 0.3954, -1.1605,  0.1702,  ..., -0.5796, -1.2154,  0.5987],\n",
      "         [ 0.4033, -0.3000,  0.2489,  ...,  0.3547,  0.0296, -0.2613],\n",
      "         ...,\n",
      "         [ 1.0080, -2.0694,  0.0141,  ...,  0.9492, -0.6336,  0.5462],\n",
      "         [-0.4118, -0.1437,  0.6258,  ..., -0.0661, -0.2469,  0.3889],\n",
      "         [-0.3085,  1.2462,  1.3135,  ..., -0.5017,  1.7049, -1.2698]]])\n",
      "tensor([[[-0.0300, -0.3148, -0.8071,  ..., -0.8923, -0.4496,  1.0117],\n",
      "         [ 0.1563, -0.3008,  1.0810,  ...,  0.9085,  1.0689, -0.5328],\n",
      "         [-1.7877,  0.5647,  0.2608,  ...,  0.3938, -2.3202, -1.4077],\n",
      "         ...,\n",
      "         [ 0.0133,  0.2814,  0.9991,  ..., -0.2299, -1.0565,  0.9919],\n",
      "         [ 0.0649,  0.0630,  0.1656,  ...,  0.1097, -0.9188, -1.8358],\n",
      "         [ 0.2332,  0.7013, -0.3077,  ...,  0.5187,  0.8567, -0.5680]],\n",
      "\n",
      "        [[ 1.3188, -1.1624,  0.8096,  ..., -0.1564, -0.7545, -0.4740],\n",
      "         [ 0.4743, -1.3790,  1.1572,  ...,  0.0853, -1.7078, -0.7412],\n",
      "         [-1.4151,  0.5334,  0.1398,  ...,  0.1274,  0.8606,  0.1228],\n",
      "         ...,\n",
      "         [ 0.4113,  0.3684,  0.4681,  ..., -1.8431, -0.5124,  0.9377],\n",
      "         [ 0.8366, -0.4179, -0.9626,  ...,  1.0791, -0.0601, -0.2096],\n",
      "         [ 0.1088,  0.6844,  1.2641,  ...,  0.5563,  2.0499, -1.9405]],\n",
      "\n",
      "        [[-1.4803, -0.0263, -0.3502,  ..., -0.6064, -0.4756,  1.0811],\n",
      "         [ 1.1350,  0.7804,  0.4129,  ...,  1.1906,  0.3299, -0.3901],\n",
      "         [ 1.5862, -1.8476,  0.6834,  ...,  0.9989, -0.2611, -1.2835],\n",
      "         ...,\n",
      "         [-0.5865,  0.9030, -1.0177,  ...,  0.3756,  0.4592,  1.6114],\n",
      "         [-1.6989, -0.8268, -0.7612,  ..., -0.4950,  2.5373,  1.1294],\n",
      "         [ 0.1581,  0.4681,  0.0768,  ...,  0.2046,  0.3212, -0.4717]]])\n",
      "tensor([[[-0.2663,  0.3042, -1.0906,  ..., -2.5682, -2.0939,  0.2287],\n",
      "         [-0.4980, -1.5583, -0.5001,  ...,  0.9031,  0.0623, -0.8161],\n",
      "         [-1.5523, -1.6023,  0.3752,  ..., -1.7967, -0.6809, -0.0815],\n",
      "         ...,\n",
      "         [ 0.9525,  0.0161, -0.6377,  ...,  0.3345, -0.4659,  0.9488],\n",
      "         [-0.8649, -1.2426,  1.2299,  ..., -0.4903, -0.0641,  0.4319],\n",
      "         [ 0.6271,  0.0508, -0.7361,  ...,  0.5426,  2.2850, -0.8687]],\n",
      "\n",
      "        [[-1.3061, -0.3349,  2.4092,  ...,  0.3991, -1.5430, -0.2918],\n",
      "         [ 1.1886, -2.2135,  0.0519,  ..., -1.7446, -0.8091,  0.9207],\n",
      "         [-3.8487, -0.9377,  0.4397,  ...,  0.9871, -0.5500,  0.5359],\n",
      "         ...,\n",
      "         [ 0.2724, -0.5113,  0.3427,  ...,  0.7223, -0.4815,  1.5875],\n",
      "         [-0.2426, -2.7816,  1.2497,  ..., -0.9880, -1.4901, -0.8079],\n",
      "         [-0.0416,  1.8585, -0.8248,  ...,  0.5114,  0.7134,  0.7193]],\n",
      "\n",
      "        [[-1.3478, -0.6905,  0.7188,  ...,  0.6902, -0.5870,  0.1300],\n",
      "         [-0.5984, -0.1815,  0.6547,  ...,  0.7175,  1.2921, -1.3608],\n",
      "         [ 1.6010,  0.0907,  0.8698,  ..., -0.1364, -1.2553, -0.1234],\n",
      "         ...,\n",
      "         [ 0.5913,  1.3163, -0.9489,  ...,  0.3058,  1.2015,  0.3861],\n",
      "         [-0.8607, -0.2113, -1.5233,  ..., -0.4857, -1.1822,  1.4915],\n",
      "         [ 0.8576,  0.2814, -0.0869,  ..., -0.1151,  1.3269,  0.3733]]])\n",
      "tensor([[[-7.3944e-01,  8.3253e-01,  3.2956e-01,  ...,  9.0615e-01,\n",
      "           4.3172e-01,  1.5316e+00],\n",
      "         [-2.5227e+00,  2.2514e-01,  1.7990e-01,  ..., -5.7750e-01,\n",
      "           3.2232e-01, -1.4070e-01],\n",
      "         [ 3.2633e-01, -6.3731e-01, -7.1245e-01,  ...,  7.2759e-02,\n",
      "          -2.8906e-01, -1.5186e+00],\n",
      "         ...,\n",
      "         [ 8.0415e-01,  1.0211e+00, -6.9128e-01,  ..., -1.8955e-01,\n",
      "           3.3061e-01, -1.3563e+00],\n",
      "         [-1.2416e-01,  1.6107e+00,  1.8318e+00,  ..., -9.0628e-01,\n",
      "          -1.4948e-01,  2.7577e-01],\n",
      "         [ 3.4333e-01,  2.4854e+00, -1.0282e-01,  ...,  1.2106e+00,\n",
      "           4.1385e-01,  1.8032e+00]],\n",
      "\n",
      "        [[ 8.8403e-01, -7.5341e-01,  1.8131e+00,  ...,  9.1849e-02,\n",
      "           1.1157e+00, -9.1266e-01],\n",
      "         [ 4.0756e-01, -2.3063e-02, -1.2634e+00,  ..., -3.8396e-01,\n",
      "          -1.5730e+00, -1.6949e-01],\n",
      "         [ 4.8571e-01, -5.0554e-01, -8.9592e-01,  ..., -1.5706e+00,\n",
      "           2.2551e-01, -4.1862e-01],\n",
      "         ...,\n",
      "         [ 4.7011e-01, -1.9698e+00,  3.5752e-01,  ..., -8.3212e-01,\n",
      "           8.6228e-01, -2.2702e-01],\n",
      "         [ 1.1870e-01,  4.3796e-01, -3.1731e+00,  ..., -1.8503e+00,\n",
      "          -2.0877e+00,  1.7531e+00],\n",
      "         [-4.6145e-01, -3.7618e-01, -1.4678e+00,  ..., -1.4084e+00,\n",
      "          -9.1028e-01, -2.8105e-01]],\n",
      "\n",
      "        [[-1.5253e+00, -1.5545e+00,  6.7356e-01,  ..., -1.4418e+00,\n",
      "           4.4510e-01, -2.0827e+00],\n",
      "         [-3.4607e-02, -6.9905e-01,  6.9536e-01,  ..., -1.2305e+00,\n",
      "          -2.9827e-01,  3.6556e-01],\n",
      "         [-8.9827e-04, -7.6495e-01, -7.9928e-02,  ...,  1.4005e+00,\n",
      "           6.6245e-01,  8.4246e-02],\n",
      "         ...,\n",
      "         [ 5.9784e-01, -7.5270e-01,  2.6052e+00,  ...,  1.6139e+00,\n",
      "           6.6900e-01,  1.3698e+00],\n",
      "         [-1.2597e+00,  1.6539e+00, -8.7492e-01,  ..., -2.0453e-02,\n",
      "           3.5788e-01,  1.0602e+00],\n",
      "         [-9.3032e-01, -2.4032e-01, -1.4705e+00,  ...,  2.1850e-01,\n",
      "           6.2380e-02,  1.2325e-01]]])\n",
      "tensor([[[-0.8573,  0.4300,  0.3733,  ..., -0.2541,  0.1471, -0.2228],\n",
      "         [-1.6242, -2.1248, -0.0911,  ...,  1.3269,  1.1585,  1.2585],\n",
      "         [ 1.3460, -0.2489, -1.6791,  ...,  0.9958, -1.3635,  1.1590],\n",
      "         ...,\n",
      "         [ 0.2785,  0.3194,  0.1699,  ...,  0.3649, -0.1767,  0.8553],\n",
      "         [-0.0848,  1.1891,  0.6340,  ..., -0.9489, -0.0176, -0.3021],\n",
      "         [-1.7587, -0.9187,  0.0868,  ...,  1.0328,  0.5447, -1.0218]],\n",
      "\n",
      "        [[ 1.0997, -0.8549, -0.9462,  ..., -2.7839, -2.1445,  0.0085],\n",
      "         [-0.1490,  0.9997,  0.1348,  ...,  1.7263, -1.2231, -0.4902],\n",
      "         [ 0.2600,  0.7894, -0.1754,  ..., -0.8825, -2.2021, -0.4325],\n",
      "         ...,\n",
      "         [-0.1223,  0.7086, -0.7109,  ..., -0.9257,  1.2719, -3.5357],\n",
      "         [-0.2555, -0.2927, -0.6366,  ...,  0.2760,  1.0848, -1.7692],\n",
      "         [-0.2807,  0.7698,  2.0727,  ..., -0.2692,  0.0448,  1.5761]],\n",
      "\n",
      "        [[-0.5292,  1.0406,  1.1499,  ..., -2.3846,  0.1582,  1.2295],\n",
      "         [-0.0503,  0.9651,  1.5409,  ..., -2.3700,  0.1646,  0.8958],\n",
      "         [ 1.1272, -0.8511,  0.3193,  ..., -1.3810,  0.0943,  1.6029],\n",
      "         ...,\n",
      "         [-0.7845, -2.0493,  0.9306,  ..., -0.3621, -0.8134, -0.1209],\n",
      "         [-0.9527, -0.3199, -0.0946,  ...,  0.3713,  0.3597,  0.7502],\n",
      "         [ 0.5045,  0.5530, -0.0528,  ...,  2.4260,  1.2264, -0.1111]]])\n",
      "tensor([[[ 1.2478,  0.2243,  1.0997,  ..., -1.5777, -0.8071, -0.3041],\n",
      "         [ 0.0344, -0.8758, -0.7159,  ...,  0.4768, -0.1330, -0.2490],\n",
      "         [-0.0981,  0.1404, -0.0122,  ..., -0.1809,  0.4514, -0.2545],\n",
      "         ...,\n",
      "         [ 0.9593,  0.7477,  1.2314,  ..., -0.2604,  0.2644,  0.3294],\n",
      "         [ 0.5267, -0.3749,  1.8219,  ..., -0.4956,  0.7348,  1.3189],\n",
      "         [-0.8805, -1.9562,  1.4568,  ...,  1.3258,  0.0079,  1.0896]],\n",
      "\n",
      "        [[-1.2449, -1.2084, -0.0417,  ..., -0.3955, -0.4904, -1.0673],\n",
      "         [-2.4000,  0.4726,  1.0294,  ...,  0.6042, -1.4403,  1.5341],\n",
      "         [ 1.0099,  0.3592, -1.3436,  ...,  0.0178, -0.3565,  0.4540],\n",
      "         ...,\n",
      "         [-0.4003, -1.2153, -0.3566,  ..., -0.0730, -0.2169, -0.6532],\n",
      "         [ 0.1606,  0.0990,  1.2039,  ..., -1.0592,  0.4393, -0.2826],\n",
      "         [ 0.4686,  0.4310,  0.6826,  ...,  0.8344, -0.7513, -0.2803]],\n",
      "\n",
      "        [[-1.0276,  0.4326,  1.9864,  ..., -0.4788, -0.3994,  0.3337],\n",
      "         [ 1.3140, -0.4005,  0.5276,  ...,  1.2865, -1.2425, -2.5476],\n",
      "         [-0.6447,  0.1768, -1.3191,  ..., -0.9046, -0.3748, -0.5579],\n",
      "         ...,\n",
      "         [ 0.0226,  0.1582, -0.1263,  ...,  0.1580, -0.0034, -2.2099],\n",
      "         [ 2.2518,  0.6535, -0.4288,  ..., -0.9549, -0.3046, -0.1479],\n",
      "         [-0.0628, -0.1331, -1.4369,  ..., -1.1302, -1.0530, -0.0777]]])\n"
     ]
    }
   ],
   "source": [
    "dataloader = DataLoader(dataset,10)\n",
    "for i,data in enumerate(dataloader):\n",
    "    print(data)"
   ]
  },
  {
   "cell_type": "code",
   "execution_count": 13,
   "metadata": {},
   "outputs": [
    {
     "ename": "NameError",
     "evalue": "name 'add_return' is not defined",
     "output_type": "error",
     "traceback": [
      "\u001b[0;31m---------------------------------------------------------------------------\u001b[0m",
      "\u001b[0;31mNameError\u001b[0m                                 Traceback (most recent call last)",
      "Cell \u001b[0;32mIn[13], line 11\u001b[0m\n\u001b[1;32m      8\u001b[0m         \u001b[38;5;28;01mreturn\u001b[39;00m \u001b[38;5;28mself\u001b[39m\u001b[38;5;241m.\u001b[39mx\n\u001b[1;32m     10\u001b[0m myclass \u001b[38;5;241m=\u001b[39m MyClass()\n\u001b[0;32m---> 11\u001b[0m \u001b[43madd_return\u001b[49m(myclass)\n",
      "\u001b[0;31mNameError\u001b[0m: name 'add_return' is not defined"
     ]
    }
   ],
   "source": [
    "class MyClass:\n",
    "    \"\"\"this is my class for experiment\"\"\"\n",
    "    def __init__(self):\n",
    "        self.x = 0\n",
    "\n",
    "    def __add_return__(self):\n",
    "        self.x +=1\n",
    "        return self.x\n",
    "    \n",
    "myclass = MyClass()\n",
    "add_return(myclass)"
   ]
  },
  {
   "cell_type": "code",
   "execution_count": 14,
   "metadata": {},
   "outputs": [
    {
     "data": {
      "text/plain": [
       "1"
      ]
     },
     "execution_count": 14,
     "metadata": {},
     "output_type": "execute_result"
    }
   ],
   "source": [
    "aaa = iter([1,2,3])\n",
    "next(aaa)"
   ]
  },
  {
   "cell_type": "code",
   "execution_count": 15,
   "metadata": {},
   "outputs": [
    {
     "data": {
      "text/plain": [
       "2"
      ]
     },
     "execution_count": 15,
     "metadata": {},
     "output_type": "execute_result"
    }
   ],
   "source": [
    "next(aaa)"
   ]
  },
  {
   "cell_type": "code",
   "execution_count": 16,
   "metadata": {},
   "outputs": [
    {
     "data": {
      "text/plain": [
       "[2, 4, 6]"
      ]
     },
     "execution_count": 16,
     "metadata": {},
     "output_type": "execute_result"
    }
   ],
   "source": [
    "aaa = [1,2,3]\n",
    "list(map(lambda x:x*2,aaa))"
   ]
  },
  {
   "cell_type": "code",
   "execution_count": 17,
   "metadata": {},
   "outputs": [
    {
     "data": {
      "text/plain": [
       "'this is my class for experiment'"
      ]
     },
     "execution_count": 17,
     "metadata": {},
     "output_type": "execute_result"
    }
   ],
   "source": [
    "MyClass.__doc__"
   ]
  },
  {
   "cell_type": "code",
   "execution_count": 22,
   "metadata": {},
   "outputs": [
    {
     "name": "stdout",
     "output_type": "stream",
     "text": [
      "9\n",
      "[1, 4, 9]\n"
     ]
    }
   ],
   "source": [
    "myfunc = lambda x:x**2\n",
    "print(myfunc(3))\n",
    "print(list(map(myfunc,aaa)))"
   ]
  },
  {
   "cell_type": "code",
   "execution_count": 2,
   "metadata": {},
   "outputs": [
    {
     "name": "stdout",
     "output_type": "stream",
     "text": [
      "tensor([0.8033])\n",
      "tensor([0.1748])\n",
      "tensor([0.0890])\n",
      "tensor([-0.6137])\n",
      "tensor([0.0462])\n",
      "tensor([-1.3683])\n",
      "tensor([0.3375])\n",
      "tensor([1.0111])\n",
      "tensor([-1.4352])\n",
      "tensor([0.9774])\n"
     ]
    }
   ],
   "source": [
    "import torch\n",
    "torch.manual_seed(3)\n",
    "def Dataset(list):\n",
    "    for num in list:\n",
    "        yield torch.randn(1)\n",
    "    \n",
    "for data in Dataset(range(10)):\n",
    "    print(data)"
   ]
  },
  {
   "cell_type": "code",
   "execution_count": 3,
   "metadata": {},
   "outputs": [
    {
     "name": "stdout",
     "output_type": "stream",
     "text": [
      "torch                     2.1.1\n",
      "\n"
     ]
    }
   ],
   "source": [
    "with open(\"piplist.txt\",\"r\") as f:\n",
    "    for line in f:\n",
    "        if \"torch\" in line:\n",
    "            print(line)\n",
    "            break"
   ]
  },
  {
   "cell_type": "markdown",
   "metadata": {},
   "source": [
    "#### return = yield + break"
   ]
  },
  {
   "cell_type": "code",
   "execution_count": 6,
   "metadata": {},
   "outputs": [
    {
     "name": "stdout",
     "output_type": "stream",
     "text": [
      "Package                   Version\n",
      "\n",
      "------------------------- ------------\n",
      "\n",
      "anyio                     4.1.0\n",
      "\n",
      "argon2-cffi               23.1.0\n",
      "\n",
      "argon2-cffi-bindings      21.2.0\n",
      "\n",
      "arrow                     1.3.0\n",
      "\n",
      "asttokens                 2.4.1\n",
      "\n",
      "async-lru                 2.0.4\n",
      "\n",
      "attrs                     23.1.0\n",
      "\n",
      "Babel                     2.13.1\n",
      "\n",
      "beautifulsoup4            4.12.2\n",
      "\n",
      "bleach                    6.1.0\n",
      "\n",
      "certifi                   2023.11.17\n",
      "\n",
      "cffi                      1.16.0\n",
      "\n",
      "charset-normalizer        3.3.2\n",
      "\n",
      "colorama                  0.4.6\n",
      "\n",
      "comm                      0.2.0\n",
      "\n",
      "contourpy                 1.2.0\n",
      "\n",
      "cycler                    0.12.1\n",
      "\n",
      "debugpy                   1.8.0\n",
      "\n",
      "decorator                 5.1.1\n",
      "\n",
      "defusedxml                0.7.1\n",
      "\n",
      "exceptiongroup            1.2.0\n",
      "\n",
      "executing                 2.0.1\n",
      "\n",
      "fastjsonschema            2.19.0\n",
      "\n",
      "filelock                  3.13.1\n",
      "\n",
      "fonttools                 4.46.0\n",
      "\n",
      "fqdn                      1.5.1\n",
      "\n",
      "fsspec                    2023.12.1\n",
      "\n",
      "gitdb                     4.0.11\n",
      "\n",
      "GitPython                 3.1.40\n",
      "\n",
      "idna                      3.6\n",
      "\n",
      "ipykernel                 6.27.1\n",
      "\n",
      "ipython                   8.18.1\n",
      "\n",
      "isoduration               20.11.0\n",
      "\n",
      "jedi                      0.19.1\n",
      "\n",
      "Jinja2                    3.1.2\n",
      "\n",
      "joblib                    1.3.2\n",
      "\n",
      "json5                     0.9.14\n",
      "\n",
      "jsonpointer               2.4\n",
      "\n",
      "jsonschema                4.20.0\n",
      "\n",
      "jsonschema-specifications 2023.11.2\n",
      "\n",
      "jupyter_client            8.6.0\n",
      "\n",
      "jupyter_core              5.5.0\n",
      "\n",
      "jupyter-events            0.9.0\n",
      "\n",
      "jupyter-lsp               2.2.1\n",
      "\n",
      "jupyter_server            2.12.1\n",
      "\n",
      "jupyter-server-mathjax    0.2.6\n",
      "\n",
      "jupyter_server_terminals  0.4.4\n",
      "\n",
      "jupyterlab                4.0.9\n",
      "\n",
      "jupyterlab_git            0.50.0\n",
      "\n",
      "jupyterlab_pygments       0.3.0\n",
      "\n",
      "jupyterlab_server         2.25.2\n",
      "\n",
      "kiwisolver                1.4.5\n",
      "\n",
      "MarkupSafe                2.1.3\n",
      "\n",
      "matplotlib                3.8.2\n",
      "\n",
      "matplotlib-inline         0.1.6\n",
      "\n",
      "mistune                   3.0.2\n",
      "\n",
      "mpmath                    1.3.0\n",
      "\n",
      "nbclient                  0.9.0\n",
      "\n",
      "nbconvert                 7.12.0\n",
      "\n",
      "nbdime                    4.0.1\n",
      "\n",
      "nbformat                  5.9.2\n",
      "\n",
      "nest-asyncio              1.5.8\n",
      "\n",
      "networkx                  3.2.1\n",
      "\n",
      "notebook_shim             0.2.3\n",
      "\n",
      "numpy                     1.26.2\n",
      "\n",
      "nvidia-cublas-cu12        12.1.3.1\n",
      "\n",
      "nvidia-cuda-cupti-cu12    12.1.105\n",
      "\n",
      "nvidia-cuda-nvrtc-cu12    12.1.105\n",
      "\n",
      "nvidia-cuda-runtime-cu12  12.1.105\n",
      "\n",
      "nvidia-cudnn-cu12         8.9.2.26\n",
      "\n",
      "nvidia-cufft-cu12         11.0.2.54\n",
      "\n",
      "nvidia-curand-cu12        10.3.2.106\n",
      "\n",
      "nvidia-cusolver-cu12      11.4.5.107\n",
      "\n",
      "nvidia-cusparse-cu12      12.1.0.106\n",
      "\n",
      "nvidia-nccl-cu12          2.18.1\n",
      "\n",
      "nvidia-nvjitlink-cu12     12.3.101\n",
      "\n",
      "nvidia-nvtx-cu12          12.1.105\n",
      "\n",
      "overrides                 7.4.0\n",
      "\n",
      "packaging                 23.2\n",
      "\n",
      "pandas                    2.1.3\n",
      "\n",
      "pandocfilters             1.5.0\n",
      "\n",
      "parso                     0.8.3\n",
      "\n",
      "pexpect                   4.9.0\n",
      "\n",
      "Pillow                    10.1.0\n",
      "\n",
      "pip                       23.3.1\n",
      "\n",
      "platformdirs              4.1.0\n",
      "\n",
      "plotly                    5.18.0\n",
      "\n",
      "prometheus-client         0.19.0\n",
      "\n",
      "prompt-toolkit            3.0.41\n",
      "\n",
      "psutil                    5.9.6\n",
      "\n",
      "ptyprocess                0.7.0\n",
      "\n",
      "pure-eval                 0.2.2\n",
      "\n",
      "pycparser                 2.21\n",
      "\n",
      "Pygments                  2.17.2\n",
      "\n",
      "pyparsing                 3.1.1\n",
      "\n",
      "python-dateutil           2.8.2\n",
      "\n",
      "python-json-logger        2.0.7\n",
      "\n",
      "pytz                      2023.3.post1\n",
      "\n",
      "PyYAML                    6.0.1\n",
      "\n",
      "pyzmq                     25.1.2\n",
      "\n",
      "referencing               0.32.0\n",
      "\n",
      "requests                  2.31.0\n",
      "\n",
      "rfc3339-validator         0.1.4\n",
      "\n",
      "rfc3986-validator         0.1.1\n",
      "\n",
      "rpds-py                   0.13.2\n",
      "\n",
      "scikit-learn              1.3.2\n",
      "\n",
      "scipy                     1.11.4\n",
      "\n",
      "seaborn                   0.13.0\n",
      "\n",
      "Send2Trash                1.8.2\n",
      "\n",
      "setuptools                68.2.2\n",
      "\n",
      "six                       1.16.0\n",
      "\n",
      "smmap                     5.0.1\n",
      "\n",
      "sniffio                   1.3.0\n",
      "\n",
      "soupsieve                 2.5\n",
      "\n",
      "stack-data                0.6.3\n",
      "\n",
      "sympy                     1.12\n",
      "\n",
      "tenacity                  8.2.3\n",
      "\n",
      "terminado                 0.18.0\n",
      "\n",
      "threadpoolctl             3.2.0\n",
      "\n",
      "tinycss2                  1.2.1\n",
      "\n",
      "tomli                     2.0.1\n",
      "\n",
      "torch                     2.1.1\n",
      "\n",
      "torch                     2.1.1\n",
      "\n"
     ]
    }
   ],
   "source": [
    "def loader():\n",
    "    with open(\"piplist.txt\",\"r\") as f:\n",
    "        for line in f:\n",
    "            yield line\n",
    "\n",
    "for data in loader():\n",
    "    print(data)\n",
    "    if \"torch\" in data:\n",
    "        print(data)\n",
    "        break"
   ]
  },
  {
   "cell_type": "code",
   "execution_count": 7,
   "metadata": {},
   "outputs": [],
   "source": [
    "ITER = iter(loader())"
   ]
  },
  {
   "cell_type": "code",
   "execution_count": 13,
   "metadata": {},
   "outputs": [
    {
     "data": {
      "text/plain": [
       "'arrow                     1.3.0\\n'"
      ]
     },
     "execution_count": 13,
     "metadata": {},
     "output_type": "execute_result"
    }
   ],
   "source": [
    "next(ITER)"
   ]
  },
  {
   "cell_type": "code",
   "execution_count": 16,
   "metadata": {},
   "outputs": [
    {
     "name": "stdout",
     "output_type": "stream",
     "text": [
      "aa\n",
      "here\n",
      "start\n",
      "hello\n",
      "end\n"
     ]
    }
   ],
   "source": [
    "def mydecolator(func):\n",
    "    print(\"aa\")\n",
    "    def wrapper():\n",
    "        print(\"start\")\n",
    "        func()\n",
    "        print(\"end\")\n",
    "    return wrapper\n",
    "\n",
    "@mydecolator\n",
    "def hello():\n",
    "    print(\"hello\")\n",
    "\n",
    "print(\"here\")\n",
    "hello()"
   ]
  },
  {
   "cell_type": "code",
   "execution_count": 33,
   "metadata": {},
   "outputs": [
    {
     "name": "stdout",
     "output_type": "stream",
     "text": [
      "2\n"
     ]
    }
   ],
   "source": [
    "def mydecolator2(func):\n",
    "    def wrapped_func(x):\n",
    "        func(x+1)\n",
    "    return wrapped_func\n",
    "\n",
    "@mydecolator2\n",
    "def hello(x):\n",
    "    print(x)\n",
    "\n",
    "hello(1)"
   ]
  },
  {
   "cell_type": "code",
   "execution_count": 34,
   "metadata": {},
   "outputs": [
    {
     "data": {
      "text/plain": [
       "<function __main__.mydecolator2.<locals>.wrapped_func(x)>"
      ]
     },
     "execution_count": 34,
     "metadata": {},
     "output_type": "execute_result"
    }
   ],
   "source": [
    "hello"
   ]
  },
  {
   "cell_type": "code",
   "execution_count": 39,
   "metadata": {},
   "outputs": [
    {
     "name": "stdout",
     "output_type": "stream",
     "text": [
      "Help on function wrapped_func in module __main__:\n",
      "\n",
      "wrapped_func(x)\n",
      "\n"
     ]
    }
   ],
   "source": [
    "help(hello)"
   ]
  },
  {
   "cell_type": "code",
   "execution_count": 48,
   "metadata": {},
   "outputs": [],
   "source": [
    "def mydecolater(func):\n",
    "    import functools\n",
    "    @functools.wraps(func)\n",
    "    def wrapper(*args, **kwargs):\n",
    "        print(\"Funcname:\", func.__name__)        #=> 関数名\n",
    "        print(\"Arguments:\", args)                #=> 引数\n",
    "        print(\"Keywords:\", kwargs)               #=> キーワード\n",
    "        ret = func(*args, **kwargs)\n",
    "        print(\"Return:\", ret)                    #=> 戻り値\n",
    "        return ret\n",
    "    return wrapper\n",
    "\n",
    "@mydecolater\n",
    "def func(msg1, msg2, flag=1, mode=2):\n",
    "    \"\"\"A sample function\"\"\"\n",
    "    print(\"----\", msg1, msg2, \"----\")\n",
    "    return 1234\n",
    "                  #=> A sample function"
   ]
  },
  {
   "cell_type": "code",
   "execution_count": 55,
   "metadata": {},
   "outputs": [
    {
     "name": "stdout",
     "output_type": "stream",
     "text": [
      "Funcname: func\n",
      "Arguments: ('Hello', 'Hello2')\n",
      "Keywords: {'flag': 1}\n",
      "---- Hello Hello2 ----\n",
      "Return: 1234\n"
     ]
    },
    {
     "data": {
      "text/plain": [
       "1234"
      ]
     },
     "execution_count": 55,
     "metadata": {},
     "output_type": "execute_result"
    }
   ],
   "source": [
    "n=func(\"Hello\", \"Hello2\", flag=1)\n",
    "n"
   ]
  },
  {
   "cell_type": "code",
   "execution_count": 50,
   "metadata": {},
   "outputs": [
    {
     "name": "stdout",
     "output_type": "stream",
     "text": [
      "1234\n",
      "<function mydecolater.<locals>.wrapper at 0x7f9018325090>\n",
      "None\n"
     ]
    }
   ],
   "source": [
    "print(n)                               #=> 1234\n",
    "print(repr(func))                      #=> <function func at 0x7f693aa0b158>\n",
    "print(func.__doc__)  "
   ]
  },
  {
   "cell_type": "code",
   "execution_count": 61,
   "metadata": {},
   "outputs": [
    {
     "name": "stdout",
     "output_type": "stream",
     "text": [
      "Funcname: hello_add\n",
      "Arguments: (1, 2)\n",
      "Keywords: {}\n",
      "hello\n",
      "Return: 3\n"
     ]
    }
   ],
   "source": [
    "@mydecolater\n",
    "def hello_add(x,y):\n",
    "    print(\"hello\")\n",
    "    return x+y\n",
    "\n",
    "n = hello_add(1,2)"
   ]
  },
  {
   "cell_type": "code",
   "execution_count": 63,
   "metadata": {},
   "outputs": [
    {
     "name": "stdout",
     "output_type": "stream",
     "text": [
      "Help on function wrapper in module __main__:\n",
      "\n",
      "wrapper(*args, **kwargs)\n",
      "    # import functools\n",
      "    # @functools.wraps(func)\n",
      "\n"
     ]
    }
   ],
   "source": [
    "help(hello_add)"
   ]
  },
  {
   "cell_type": "code",
   "execution_count": 66,
   "metadata": {},
   "outputs": [
    {
     "name": "stdout",
     "output_type": "stream",
     "text": [
      "Funcname: func\n",
      "Arguments: ('hello', 'hello2')\n",
      "Keywords: {'flag': 1}\n",
      "---- hello hello2 ----\n",
      "Return: 1234\n"
     ]
    },
    {
     "data": {
      "text/plain": [
       "1234"
      ]
     },
     "execution_count": 66,
     "metadata": {},
     "output_type": "execute_result"
    }
   ],
   "source": [
    "func(\"hello\",\"hello2\",flag=1)"
   ]
  },
  {
   "cell_type": "code",
   "execution_count": 75,
   "metadata": {},
   "outputs": [
    {
     "name": "stdout",
     "output_type": "stream",
     "text": [
      "hello\n",
      "hello\n",
      "hello\n",
      "hello\n",
      "hello\n",
      "hello\n",
      "hello\n",
      "hello\n",
      "hello\n",
      "hello\n"
     ]
    }
   ],
   "source": [
    "def repeater(func):\n",
    "    def wrapper():\n",
    "        for i in range(10):\n",
    "            func()\n",
    "    return wrapper\n",
    "\n",
    "@repeater\n",
    "def hello():\n",
    "    print(\"hello\")\n",
    "\n",
    "hello()"
   ]
  },
  {
   "cell_type": "code",
   "execution_count": 80,
   "metadata": {},
   "outputs": [
    {
     "name": "stdout",
     "output_type": "stream",
     "text": [
      "x+y: 3\n",
      "x+y: 3\n",
      "x+y: 3\n",
      "x+y: 3\n",
      "x+y: 3\n",
      "x+y: 3\n",
      "x+y: 3\n",
      "x+y: 3\n",
      "x+y: 3\n",
      "x+y: 3\n"
     ]
    }
   ],
   "source": [
    "def repeat_10(func):\n",
    "    def wrapper(*args, **kwargs):\n",
    "        for i in range(10):\n",
    "            func(*args, **kwargs)\n",
    "    return wrapper\n",
    "\n",
    "@repeat_10\n",
    "def hello(x,y):\n",
    "    # print(\"hello\")\n",
    "    print(\"x+y:\",x+y)\n",
    "\n",
    "hello(1,2)"
   ]
  },
  {
   "cell_type": "code",
   "execution_count": 92,
   "metadata": {},
   "outputs": [
    {
     "name": "stdout",
     "output_type": "stream",
     "text": [
      "0.6613521575927734\n",
      "0.6613521575927734\n",
      "0.6613521575927734\n",
      "0.6613521575927734\n",
      "0.6613521575927734\n",
      "0.6613521575927734\n",
      "0.6613521575927734\n",
      "0.6613521575927734\n",
      "0.6613521575927734\n",
      "0.6613521575927734\n"
     ]
    }
   ],
   "source": [
    "import torch\n",
    "@repeat_10\n",
    "def get_randn(seed=-1):\n",
    "    if seed != -1:\n",
    "        torch.manual_seed(seed)\n",
    "\n",
    "    number = torch.randn(1).item()\n",
    "    print(number)\n",
    "\n",
    "get_randn(1)"
   ]
  },
  {
   "cell_type": "markdown",
   "metadata": {},
   "source": [
    "@staticmethod なしでも問題なく動く、、、必要性が謎。"
   ]
  },
  {
   "cell_type": "code",
   "execution_count": 53,
   "metadata": {},
   "outputs": [
    {
     "data": {
      "text/plain": [
       "3"
      ]
     },
     "execution_count": 53,
     "metadata": {},
     "output_type": "execute_result"
    }
   ],
   "source": [
    "class MyClass():\n",
    "    def __init__(self):\n",
    "        ...\n",
    "\n",
    "    @staticmethod\n",
    "    def add(x,y):\n",
    "        return x+y\n",
    "\n",
    "MyClass.add(1,2)\n"
   ]
  },
  {
   "cell_type": "markdown",
   "metadata": {},
   "source": [
    "@classmethod クラス自身を呼べる。どう使う？"
   ]
  },
  {
   "cell_type": "code",
   "execution_count": 54,
   "metadata": {},
   "outputs": [
    {
     "name": "stdout",
     "output_type": "stream",
     "text": [
      "This is a class method of <class '__main__.MyClass'>.\n"
     ]
    }
   ],
   "source": [
    "class MyClass:\n",
    "    def __init__(self):\n",
    "        for i in range(10):\n",
    "            print(i)\n",
    "        self.aaa = 1\n",
    "    @classmethod\n",
    "    def my_class_method(cls):\n",
    "        print(f\"This is a class method of {cls}.\")\n",
    "\n",
    "MyClass.my_class_method()"
   ]
  },
  {
   "cell_type": "markdown",
   "metadata": {},
   "source": [
    "@properti, @x.setter は明示的に値の変更部分を作れて安全というメリットはありそう。\n",
    "\n",
    "でもぶっちゃけmy_object._x を直接いじるのでいい気もする、、、。"
   ]
  },
  {
   "cell_type": "code",
   "execution_count": 31,
   "metadata": {},
   "outputs": [
    {
     "name": "stdout",
     "output_type": "stream",
     "text": [
      "10\n",
      "20\n"
     ]
    }
   ],
   "source": [
    "class MyClass:\n",
    "    def __init__(self, x):\n",
    "        self._x = x\n",
    "\n",
    "    @property\n",
    "    def x(self):\n",
    "        return self._x\n",
    "\n",
    "    @x.setter\n",
    "    def x(self, value):\n",
    "        self._x = value\n",
    "\n",
    "my_object = MyClass(10)\n",
    "print(my_object.x)  # Output: 10\n",
    "my_object.x = 20\n",
    "print(my_object.x)  # Output: 20\n"
   ]
  },
  {
   "cell_type": "code",
   "execution_count": 21,
   "metadata": {},
   "outputs": [
    {
     "data": {
      "text/plain": [
       "20"
      ]
     },
     "execution_count": 21,
     "metadata": {},
     "output_type": "execute_result"
    }
   ],
   "source": [
    "my_object.x = 10\n",
    "my_object._x"
   ]
  },
  {
   "cell_type": "code",
   "execution_count": 11,
   "metadata": {},
   "outputs": [
    {
     "data": {
      "text/plain": [
       "<bound method MyClass.x of <__main__.MyClass object at 0x7f62e02440d0>>"
      ]
     },
     "execution_count": 11,
     "metadata": {},
     "output_type": "execute_result"
    }
   ],
   "source": [
    "my_object = MyClass(10)\n",
    "my_object.x"
   ]
  },
  {
   "cell_type": "code",
   "execution_count": 12,
   "metadata": {},
   "outputs": [
    {
     "data": {
      "text/plain": [
       "10"
      ]
     },
     "execution_count": 12,
     "metadata": {},
     "output_type": "execute_result"
    }
   ],
   "source": [
    "my_object._x"
   ]
  },
  {
   "cell_type": "markdown",
   "metadata": {},
   "source": [
    "@abstractmethod を加えると、実装されていない場合に子クラスでエラーを起こしてくれる。"
   ]
  },
  {
   "cell_type": "code",
   "execution_count": 28,
   "metadata": {},
   "outputs": [],
   "source": [
    "from abc import ABC, abstractmethod\n",
    "\n",
    "class MyAbstractClass(ABC):\n",
    "    # @abstractmethod\n",
    "    def my_abstract_method(self):\n",
    "        pass\n",
    "\n",
    "class MyClass(MyAbstractClass):\n",
    "    # def my_abstract_method(self):\n",
    "    #     print(\"This is my implementation of the abstract method.\")\n",
    "    ...\n",
    "\n",
    "my_object = MyClass()\n",
    "my_object.my_abstract_method()\n"
   ]
  },
  {
   "cell_type": "code",
   "execution_count": 39,
   "metadata": {},
   "outputs": [
    {
     "name": "stdout",
     "output_type": "stream",
     "text": [
      "Before the function is called.\n",
      "This is my function.\n",
      "After the function is called.\n",
      "my_function\n",
      "Help on function my_function in module __main__:\n",
      "\n",
      "my_function()\n",
      "\n",
      "None\n"
     ]
    }
   ],
   "source": [
    "from functools import wraps\n",
    "\n",
    "def my_decorator(func):\n",
    "    @wraps(func)\n",
    "    def wrapper(*args, **kwargs):\n",
    "        print(\"Before the function is called.\")\n",
    "        result = func(*args, **kwargs)\n",
    "        print(\"After the function is called.\")\n",
    "        return result\n",
    "    return wrapper\n",
    "\n",
    "@my_decorator\n",
    "def my_function():\n",
    "    print(\"This is my function.\")\n",
    "\n",
    "# @wraps を入れないと以下が関数本体ではなく、wrapperになる。\n",
    "my_function()\n",
    "print(my_function.__name__)\n",
    "print(help(my_function))"
   ]
  },
  {
   "cell_type": "markdown",
   "metadata": {},
   "source": [
    "## クラス"
   ]
  },
  {
   "cell_type": "code",
   "execution_count": 40,
   "metadata": {},
   "outputs": [
    {
     "name": "stdout",
     "output_type": "stream",
     "text": [
      "Tanaka\n"
     ]
    }
   ],
   "source": [
    "class MyClass:\n",
    "    \"\"\"A simple example class\"\"\"         # 三重クォートによるコメント\n",
    "\n",
    "    def __init__(self):                  # コンストラクタ\n",
    "        self.name = \"\"\n",
    "\n",
    "    def getName(self):                   # getName()メソッド\n",
    "        return self.name\n",
    "\n",
    "    def setName(self, name):             # setName()メソッド\n",
    "        self.name = name\n",
    "\n",
    "a = MyClass()                            # クラスのインスタンスを生成\n",
    "a.setName(\"Tanaka\")                      # setName()メソッドをコール\n",
    "print(a.getName())                       # getName()メソッドをコール"
   ]
  },
  {
   "cell_type": "code",
   "execution_count": 42,
   "metadata": {},
   "outputs": [
    {
     "name": "stdout",
     "output_type": "stream",
     "text": [
      "Help on class MyClass in module __main__:\n",
      "\n",
      "class MyClass(builtins.object)\n",
      " |  A simple example class\n",
      " |  \n",
      " |  Methods defined here:\n",
      " |  \n",
      " |  __init__(self)\n",
      " |      Initialize self.  See help(type(self)) for accurate signature.\n",
      " |  \n",
      " |  getName(self)\n",
      " |  \n",
      " |  setName(self, name)\n",
      " |  \n",
      " |  ----------------------------------------------------------------------\n",
      " |  Data descriptors defined here:\n",
      " |  \n",
      " |  __dict__\n",
      " |      dictionary for instance variables (if defined)\n",
      " |  \n",
      " |  __weakref__\n",
      " |      list of weak references to the object (if defined)\n",
      "\n"
     ]
    }
   ],
   "source": [
    "help(MyClass)"
   ]
  },
  {
   "cell_type": "code",
   "execution_count": 43,
   "metadata": {},
   "outputs": [
    {
     "name": "stdout",
     "output_type": "stream",
     "text": [
      "Tanaka\n",
      "Suzuki\n"
     ]
    }
   ],
   "source": [
    "class MyClass:\n",
    "    def __init__(self):\n",
    "        self.name = \"\"              # インスタンス変数\n",
    "\n",
    "a1 = MyClass()\n",
    "a1.name = \"Tanaka\"\n",
    "\n",
    "a2 = MyClass()\n",
    "a2.name = \"Suzuki\"\n",
    "\n",
    "print(a1.name)                       #=> Tanaka\n",
    "print(a2.name)                       #=> Suzuki"
   ]
  },
  {
   "cell_type": "code",
   "execution_count": 49,
   "metadata": {},
   "outputs": [
    {
     "name": "stdout",
     "output_type": "stream",
     "text": [
      "3.14\n"
     ]
    }
   ],
   "source": [
    "class MyClass:\n",
    "    PI = 3.14                        #=> クラス変数\n",
    "    def __init__(self):\n",
    "        ...\n",
    "    def func():\n",
    "        print(\"aaa\")\n",
    "\n",
    "print(MyClass.PI)                    #=> 3.14"
   ]
  },
  {
   "cell_type": "code",
   "execution_count": 50,
   "metadata": {},
   "outputs": [
    {
     "name": "stdout",
     "output_type": "stream",
     "text": [
      "aaa\n"
     ]
    }
   ],
   "source": [
    "MyClass.func()"
   ]
  },
  {
   "cell_type": "code",
   "execution_count": 57,
   "metadata": {},
   "outputs": [
    {
     "name": "stdout",
     "output_type": "stream",
     "text": [
      "0\n",
      "1\n",
      "2\n"
     ]
    }
   ],
   "source": [
    "class MyClass:\n",
    "    count = 0                       # クラス変数を初期化\n",
    "\n",
    "    def __init__(self):\n",
    "        MyClass.count += 1          # クラス変数をカウントアップ\n",
    "\n",
    "print(MyClass.count)                #=> 2\n",
    "a1 = MyClass()\n",
    "print(MyClass.count)                #=> 2\n",
    "a2 = MyClass()\n",
    "print(MyClass.count)                #=> 2"
   ]
  },
  {
   "cell_type": "code",
   "execution_count": 61,
   "metadata": {},
   "outputs": [],
   "source": [
    "class MyClass:\n",
    "    pass\n",
    "\n",
    "a1 = MyClass()\n",
    "a1.name2 = \"Tanaka\"                 # インスタンス変数の追加\n",
    "MyClass.PI2 = 3.141593              # クラス変数の追加"
   ]
  },
  {
   "cell_type": "code",
   "execution_count": 62,
   "metadata": {},
   "outputs": [
    {
     "data": {
      "text/plain": [
       "'Tanaka'"
      ]
     },
     "execution_count": 62,
     "metadata": {},
     "output_type": "execute_result"
    }
   ],
   "source": [
    "a1.name2"
   ]
  },
  {
   "cell_type": "code",
   "execution_count": 64,
   "metadata": {},
   "outputs": [
    {
     "data": {
      "text/plain": [
       "3.141593"
      ]
     },
     "execution_count": 64,
     "metadata": {},
     "output_type": "execute_result"
    }
   ],
   "source": [
    "MyClass.PI2"
   ]
  },
  {
   "cell_type": "code",
   "execution_count": 59,
   "metadata": {},
   "outputs": [
    {
     "name": "stdout",
     "output_type": "stream",
     "text": [
      "3.14\n",
      "3.141593\n",
      "3.14\n"
     ]
    }
   ],
   "source": [
    "class MyClass:\n",
    "    PI = 3.14\n",
    "\n",
    "a1 = MyClass()\n",
    "a2 = MyClass()\n",
    "print(a1.PI)                        # クラス変数 MyClass.PI(3.14) が参照される\n",
    "a1.PI = 3.141593                    # インスタンス変数 a1.PI が生成される\n",
    "print(a1.PI)                        # インスタンス変数 a1.PI(3.141593)が参照される\n",
    "print(a2.PI)                        # クラス変数 MyClass.PI(3.14) が参照される"
   ]
  },
  {
   "cell_type": "code",
   "execution_count": 65,
   "metadata": {},
   "outputs": [],
   "source": [
    "class MyClass:\n",
    "    PI = 3.14\n",
    "\n",
    "a1 = MyClass()\n",
    "a2 = MyClass()"
   ]
  },
  {
   "cell_type": "code",
   "execution_count": 69,
   "metadata": {},
   "outputs": [
    {
     "data": {
      "text/plain": [
       "3.1415"
      ]
     },
     "execution_count": 69,
     "metadata": {},
     "output_type": "execute_result"
    }
   ],
   "source": [
    "a1.PI = 3.1415\n",
    "a1.PI"
   ]
  },
  {
   "cell_type": "code",
   "execution_count": 70,
   "metadata": {},
   "outputs": [
    {
     "data": {
      "text/plain": [
       "3.14"
      ]
     },
     "execution_count": 70,
     "metadata": {},
     "output_type": "execute_result"
    }
   ],
   "source": [
    "MyClass.PI"
   ]
  },
  {
   "cell_type": "code",
   "execution_count": 71,
   "metadata": {},
   "outputs": [],
   "source": [
    "class MyClass:\n",
    "    name = \"\"\n",
    "    def setName(self, name):     # 第一引数は自インスタンス(self)\n",
    "        self.name = name\n",
    "\n",
    "a = MyClass()\n",
    "a.setName(\"Tanaka\")"
   ]
  },
  {
   "cell_type": "code",
   "execution_count": 73,
   "metadata": {},
   "outputs": [
    {
     "name": "stdout",
     "output_type": "stream",
     "text": [
      "Tanaka\n"
     ]
    }
   ],
   "source": [
    "class MyClass():\n",
    "    def __init__(self, name):\n",
    "        self.name = name\n",
    "    def getName(self):\n",
    "        return self.name\n",
    "\n",
    "a = MyClass(\"Tanaka\")\n",
    "print(a.getName())                     #=> Tanaka"
   ]
  },
  {
   "cell_type": "code",
   "execution_count": 75,
   "metadata": {},
   "outputs": [
    {
     "name": "stdout",
     "output_type": "stream",
     "text": [
      "Hello\n",
      "World\n"
     ]
    }
   ],
   "source": [
    "class MyClass:\n",
    "    def hello(self):\n",
    "        print(\"Hello\")\n",
    "\n",
    "class MyClass2(MyClass):\n",
    "    def world(self):\n",
    "        print(\"World\")\n",
    "\n",
    "a = MyClass2()\n",
    "a.hello()                   #=> Hello\n",
    "a.world()                   #=> World"
   ]
  },
  {
   "cell_type": "code",
   "execution_count": 74,
   "metadata": {},
   "outputs": [
    {
     "name": "stdout",
     "output_type": "stream",
     "text": [
      "HELLO\n"
     ]
    }
   ],
   "source": [
    "class MyClass:\n",
    "    def hello(self):\n",
    "        print(\"Hello\")\n",
    "\n",
    "class MyClass2(MyClass):\n",
    "    def hello(self):        # 親クラスのhello()メソッドをオーバーライド\n",
    "        print(\"HELLO\")\n",
    "\n",
    "a = MyClass2()\n",
    "a.hello()                   #=> HELLO"
   ]
  },
  {
   "cell_type": "code",
   "execution_count": 81,
   "metadata": {},
   "outputs": [
    {
     "name": "stdout",
     "output_type": "stream",
     "text": [
      "Hello!\n"
     ]
    }
   ],
   "source": [
    "class Father():\n",
    "    def __init__(self,name,year):\n",
    "        self.name = name\n",
    "        self.year = year\n",
    "\n",
    "    def hello(self):\n",
    "        print(\"Hello.\")\n",
    "\n",
    "class Child(Father):\n",
    "    def hello(self):\n",
    "        print(\"Hello!\")\n",
    "        \n",
    "\n",
    "student1 = Child(\"Nadal\",\"33\")\n",
    "student1.hello()"
   ]
  },
  {
   "cell_type": "code",
   "execution_count": 82,
   "metadata": {},
   "outputs": [
    {
     "data": {
      "text/plain": [
       "'Nadal'"
      ]
     },
     "execution_count": 82,
     "metadata": {},
     "output_type": "execute_result"
    }
   ],
   "source": [
    "student1.name"
   ]
  },
  {
   "cell_type": "code",
   "execution_count": 102,
   "metadata": {},
   "outputs": [
    {
     "name": "stdout",
     "output_type": "stream",
     "text": [
      "myclass1\n",
      "myclass1\n",
      "myclass1\n",
      "hello\n",
      "hello\n",
      "hello\n",
      "123\n",
      "456\n"
     ]
    }
   ],
   "source": [
    "class MyClass1(object):\n",
    "    def __init__(self):\n",
    "       self.val1 = 123\n",
    "       print(\"myclass1\")\n",
    "\n",
    "    def hello(self):\n",
    "        print(\"hello\")\n",
    "\n",
    "class MyClass2(MyClass1):\n",
    "    def __init__(self):\n",
    "        super(MyClass2,self).__init__()\n",
    "        super(MyClass2,self).__init__()\n",
    "        super(MyClass2,self).__init__()\n",
    "\n",
    "        super(MyClass2,self).hello()\n",
    "        super(MyClass2,self).hello()\n",
    "        super(MyClass2,self).hello()\n",
    "\n",
    "        self.val2 = 456\n",
    "\n",
    "a = MyClass2()\n",
    "print(a.val1)               #=> 123\n",
    "print(a.val2)               #=> 456"
   ]
  },
  {
   "cell_type": "code",
   "execution_count": 98,
   "metadata": {},
   "outputs": [
    {
     "name": "stdout",
     "output_type": "stream",
     "text": [
      "MyClassA:funcA\n",
      "MyClassB:funcB\n"
     ]
    }
   ],
   "source": [
    "class MyClassA:\n",
    "    def funcA(self):\n",
    "        print(\"MyClassA:funcA\")\n",
    "\n",
    "class MyClassB:\n",
    "    def funcB(self):\n",
    "        print(\"MyClassB:funcB\")\n",
    "\n",
    "class MyClassC(MyClassA, MyClassB):\n",
    "    pass\n",
    "\n",
    "a = MyClassC()\n",
    "a.funcA()                    # MyClassA のメソッドも\n",
    "a.funcB()                    # MyClassB のメソッドも使用できる"
   ]
  },
  {
   "cell_type": "code",
   "execution_count": 108,
   "metadata": {},
   "outputs": [
    {
     "name": "stdout",
     "output_type": "stream",
     "text": [
      "----------\n",
      "----------\n",
      "|||ooo|||\n",
      "----------\n",
      "----------\n",
      "\n",
      "\n",
      "curry and rice\n",
      "mabo-tofu\n",
      "goya-champru\n"
     ]
    }
   ],
   "source": [
    "class Father:\n",
    "    def make_garden(self):\n",
    "        print(\"----------\")\n",
    "        print(\"----------\")\n",
    "        print(\"|||ooo|||\")\n",
    "        print(\"----------\")\n",
    "        print(\"----------\")\n",
    "\n",
    "class Mother:\n",
    "    def cook(self):\n",
    "        print(\"curry and rice\")\n",
    "        print(\"mabo-tofu\")\n",
    "        print(\"goya-champru\")\n",
    "\n",
    "class Child(Father,Mother):\n",
    "    pass\n",
    "\n",
    "child1 = Child()\n",
    "child1.make_garden()\n",
    "print(\"\\n\")\n",
    "child1.cook()"
   ]
  },
  {
   "cell_type": "code",
   "execution_count": 109,
   "metadata": {},
   "outputs": [
    {
     "name": "stdout",
     "output_type": "stream",
     "text": [
      "Help on class Child in module __main__:\n",
      "\n",
      "class Child(Father, Mother)\n",
      " |  Method resolution order:\n",
      " |      Child\n",
      " |      Father\n",
      " |      Mother\n",
      " |      builtins.object\n",
      " |  \n",
      " |  Methods inherited from Father:\n",
      " |  \n",
      " |  make_garden(self)\n",
      " |  \n",
      " |  ----------------------------------------------------------------------\n",
      " |  Data descriptors inherited from Father:\n",
      " |  \n",
      " |  __dict__\n",
      " |      dictionary for instance variables (if defined)\n",
      " |  \n",
      " |  __weakref__\n",
      " |      list of weak references to the object (if defined)\n",
      " |  \n",
      " |  ----------------------------------------------------------------------\n",
      " |  Methods inherited from Mother:\n",
      " |  \n",
      " |  cook(self)\n",
      "\n"
     ]
    }
   ],
   "source": [
    "help(Child)"
   ]
  },
  {
   "cell_type": "code",
   "execution_count": 112,
   "metadata": {},
   "outputs": [
    {
     "name": "stdout",
     "output_type": "stream",
     "text": [
      "Help on class StopIteration in module builtins:\n",
      "\n",
      "class StopIteration(Exception)\n",
      " |  Signal the end from iterator.__next__().\n",
      " |  \n",
      " |  Method resolution order:\n",
      " |      StopIteration\n",
      " |      Exception\n",
      " |      BaseException\n",
      " |      object\n",
      " |  \n",
      " |  Methods defined here:\n",
      " |  \n",
      " |  __init__(self, /, *args, **kwargs)\n",
      " |      Initialize self.  See help(type(self)) for accurate signature.\n",
      " |  \n",
      " |  ----------------------------------------------------------------------\n",
      " |  Data descriptors defined here:\n",
      " |  \n",
      " |  value\n",
      " |      generator return value\n",
      " |  \n",
      " |  ----------------------------------------------------------------------\n",
      " |  Static methods inherited from Exception:\n",
      " |  \n",
      " |  __new__(*args, **kwargs) from builtins.type\n",
      " |      Create and return a new object.  See help(type) for accurate signature.\n",
      " |  \n",
      " |  ----------------------------------------------------------------------\n",
      " |  Methods inherited from BaseException:\n",
      " |  \n",
      " |  __delattr__(self, name, /)\n",
      " |      Implement delattr(self, name).\n",
      " |  \n",
      " |  __getattribute__(self, name, /)\n",
      " |      Return getattr(self, name).\n",
      " |  \n",
      " |  __reduce__(...)\n",
      " |      Helper for pickle.\n",
      " |  \n",
      " |  __repr__(self, /)\n",
      " |      Return repr(self).\n",
      " |  \n",
      " |  __setattr__(self, name, value, /)\n",
      " |      Implement setattr(self, name, value).\n",
      " |  \n",
      " |  __setstate__(...)\n",
      " |  \n",
      " |  __str__(self, /)\n",
      " |      Return str(self).\n",
      " |  \n",
      " |  with_traceback(...)\n",
      " |      Exception.with_traceback(tb) --\n",
      " |      set self.__traceback__ to tb and return self.\n",
      " |  \n",
      " |  ----------------------------------------------------------------------\n",
      " |  Data descriptors inherited from BaseException:\n",
      " |  \n",
      " |  __cause__\n",
      " |      exception cause\n",
      " |  \n",
      " |  __context__\n",
      " |      exception context\n",
      " |  \n",
      " |  __dict__\n",
      " |  \n",
      " |  __suppress_context__\n",
      " |  \n",
      " |  __traceback__\n",
      " |  \n",
      " |  args\n",
      "\n"
     ]
    }
   ],
   "source": [
    "help(StopIteration)"
   ]
  },
  {
   "cell_type": "code",
   "execution_count": null,
   "metadata": {},
   "outputs": [],
   "source": []
  }
 ],
 "metadata": {
  "kernelspec": {
   "display_name": "Python 3",
   "language": "python",
   "name": "python3"
  },
  "language_info": {
   "codemirror_mode": {
    "name": "ipython",
    "version": 3
   },
   "file_extension": ".py",
   "mimetype": "text/x-python",
   "name": "python",
   "nbconvert_exporter": "python",
   "pygments_lexer": "ipython3",
   "version": "3.10.13"
  }
 },
 "nbformat": 4,
 "nbformat_minor": 2
}
